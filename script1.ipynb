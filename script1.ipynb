{
 "cells": [
  {
   "cell_type": "code",
   "execution_count": 1,
   "metadata": {},
   "outputs": [],
   "source": [
    "import torch.nn as nn\n",
    "import numpy as np\n",
    "import torch\n",
    "import torch.nn.functional as F\n",
    "from torch import optim\n",
    "\n",
    "from torch.utils.data import DataLoader, TensorDataset\n",
    "\n",
    "import gzip\n",
    "import pickle"
   ]
  },
  {
   "cell_type": "code",
   "execution_count": 2,
   "metadata": {},
   "outputs": [],
   "source": [
    "path = \"C:\\Apps\\Masters_SJSU\\Pytorch Learning\\data\\mnist\\mnist.pkl.gz\"\n",
    "with gzip.open((path), \"rb\") as f:\n",
    "        ((x_train, y_train), (x_valid, y_valid), _) = pickle.load(f, encoding=\"latin-1\")"
   ]
  },
  {
   "cell_type": "code",
   "execution_count": 3,
   "metadata": {},
   "outputs": [
    {
     "name": "stdout",
     "output_type": "stream",
     "text": [
      "tensor([[0., 0., 0.,  ..., 0., 0., 0.],\n",
      "        [0., 0., 0.,  ..., 0., 0., 0.],\n",
      "        [0., 0., 0.,  ..., 0., 0., 0.],\n",
      "        ...,\n",
      "        [0., 0., 0.,  ..., 0., 0., 0.],\n",
      "        [0., 0., 0.,  ..., 0., 0., 0.],\n",
      "        [0., 0., 0.,  ..., 0., 0., 0.]]) tensor([5, 0, 4,  ..., 8, 4, 8])\n",
      "torch.Size([50000, 784])\n",
      "tensor(0) tensor(9)\n"
     ]
    }
   ],
   "source": [
    "x_train, y_train, x_valid, y_valid = map(torch.tensor, (x_train, y_train, x_valid, y_valid))\n",
    "n, c = x_train.shape\n",
    "print(x_train, y_train)\n",
    "print(x_train.shape)\n",
    "print(y_train.min(), y_train.max())\n",
    "\n",
    "train_ds = TensorDataset(x_train, y_train)\n",
    "valid_ds = TensorDataset(x_valid, y_valid)"
   ]
  },
  {
   "cell_type": "markdown",
   "metadata": {},
   "source": [
    "## Data Loader"
   ]
  },
  {
   "cell_type": "code",
   "execution_count": 4,
   "metadata": {},
   "outputs": [],
   "source": [
    "bs = 28\n",
    "def get_data(train_ds, valid_ds, bs):\n",
    "    return (\n",
    "        DataLoader(train_ds, batch_size=bs, shuffle=True),\n",
    "        DataLoader(valid_ds, batch_size=bs * 2),\n",
    "    )"
   ]
  },
  {
   "cell_type": "markdown",
   "metadata": {},
   "source": [
    "## Model Class"
   ]
  },
  {
   "cell_type": "code",
   "execution_count": 5,
   "metadata": {},
   "outputs": [],
   "source": [
    "class Classifier_example1(nn.Module):\n",
    "    def __init__(self):\n",
    "        super().__init__()\n",
    "        self.layer1 = nn.Linear(784, 10)\n",
    "    \n",
    "    def forward(self, x):\n",
    "        return self.layer1(x)"
   ]
  },
  {
   "cell_type": "markdown",
   "metadata": {},
   "source": [
    "## Fit and loss Method"
   ]
  },
  {
   "cell_type": "code",
   "execution_count": 6,
   "metadata": {},
   "outputs": [],
   "source": [
    "def loss_batch(model, loss_func, xb, yb, opt=None):\n",
    "    loss = loss_func(model(xb), yb)\n",
    "\n",
    "    if opt is not None:\n",
    "        loss.backward()\n",
    "        opt.step()\n",
    "        opt.zero_grad()\n",
    "    \n",
    "    return loss.item(), len(xb)\n",
    "\n",
    "def fit(epochs, model, loss_func, opt, train_dl, valid_dl):\n",
    "    \"\"\"\n",
    "    \"\"\"\n",
    "    for epoch in range(epochs):\n",
    "        model.train()\n",
    "        for xb, yb in train_dl:\n",
    "            loss_batch(model, loss_func, xb, yb, opt)\n",
    "        \n",
    "        model.eval()\n",
    "        with torch.no_grad():\n",
    "            losses, nums = zip(*[loss_batch(model, loss_func, xb, yb)  for xb, yb in valid_dl])\n",
    "        val_loss = np.sum(np.multiply(losses, nums)) / np.sum(nums)\n",
    "    \n",
    "        print(epoch, val_loss)"
   ]
  },
  {
   "cell_type": "code",
   "execution_count": 7,
   "metadata": {},
   "outputs": [],
   "source": [
    "epochs = 50\n",
    "loss_func = F.cross_entropy\n",
    "\n",
    "model = Classifier_example1()\n",
    "\n",
    "## Optimizer\n",
    "opt = optim.SGD(model.parameters(), lr=0.001)"
   ]
  },
  {
   "cell_type": "code",
   "execution_count": 8,
   "metadata": {},
   "outputs": [
    {
     "name": "stdout",
     "output_type": "stream",
     "text": [
      "0 1.2250220235347749\n",
      "1 0.8907780708312988\n",
      "2 0.7387329825401306\n",
      "3 0.6519607435703277\n",
      "4 0.5954432370781898\n",
      "5 0.5554084719657898\n",
      "6 0.5252411779642105\n",
      "7 0.5018328042030334\n",
      "8 0.48295313597917555\n",
      "9 0.4674892063260078\n",
      "10 0.45425702884197233\n",
      "11 0.4429820591211319\n",
      "12 0.4332440322756767\n",
      "13 0.4247190747141838\n",
      "14 0.41709169782996175\n",
      "15 0.41044636672735213\n",
      "16 0.40425404329895975\n",
      "17 0.3988062624037266\n",
      "18 0.39367695026397703\n",
      "19 0.38923819496631623\n",
      "20 0.38502326833605766\n",
      "21 0.38112844671607016\n",
      "22 0.3774125487148762\n",
      "23 0.3741729298532009\n",
      "24 0.3709679581046104\n",
      "25 0.3680733942449093\n",
      "26 0.36535028819441795\n",
      "27 0.36287801557183264\n",
      "28 0.3602853139638901\n",
      "29 0.3580113174676895\n",
      "30 0.355868393266201\n",
      "31 0.353768489831686\n",
      "32 0.3517802198469639\n",
      "33 0.34992119819521905\n",
      "34 0.3481344521522522\n",
      "35 0.3464404126048088\n",
      "36 0.34484532029628756\n",
      "37 0.3433127926617861\n",
      "38 0.3416943694323301\n",
      "39 0.3402946888655424\n",
      "40 0.3389296435326338\n",
      "41 0.3376388915210962\n",
      "42 0.33641643644273284\n",
      "43 0.33510592546761037\n",
      "44 0.33391935338377954\n",
      "45 0.3326997198134661\n",
      "46 0.3316733621120453\n",
      "47 0.33054434438049796\n",
      "48 0.3296087525755167\n",
      "49 0.32862183598876\n"
     ]
    }
   ],
   "source": [
    "train_dl, valid_dl = get_data(train_ds, valid_ds, bs)\n",
    "fit(epochs, model, loss_func, opt, train_dl, valid_dl)"
   ]
  },
  {
   "cell_type": "code",
   "execution_count": null,
   "metadata": {},
   "outputs": [],
   "source": []
  },
  {
   "cell_type": "markdown",
   "metadata": {},
   "source": [
    "## Using GPU"
   ]
  },
  {
   "cell_type": "code",
   "execution_count": 9,
   "metadata": {},
   "outputs": [
    {
     "data": {
      "text/plain": [
       "device(type='cuda')"
      ]
     },
     "execution_count": 9,
     "metadata": {},
     "output_type": "execute_result"
    }
   ],
   "source": [
    "dev = torch.device(\"cuda\") if torch.cuda.is_available() else torch.device(\"cpu\")\n",
    "dev"
   ]
  },
  {
   "cell_type": "code",
   "execution_count": 10,
   "metadata": {},
   "outputs": [],
   "source": [
    "class WrappedDataLoader:\n",
    "    def __init__(self, dl, func):\n",
    "        self.dl = dl\n",
    "        self.func = func\n",
    "\n",
    "    def __len__(self):\n",
    "        return len(self.dl)\n",
    "\n",
    "    def __iter__(self):\n",
    "        batches = iter(self.dl)\n",
    "        for b in batches:\n",
    "            yield (self.func(*b))\n",
    "\n",
    "def preprocess(x, y):\n",
    "    return x.to(dev), y.to(dev)\n",
    "    # return x.view(-1, 1, 28, 28).to(dev), y.to(dev)\n",
    "\n",
    "\n",
    "train_dl, valid_dl = get_data(train_ds, valid_ds, bs)\n",
    "train_dl = WrappedDataLoader(train_dl, preprocess)\n",
    "valid_dl = WrappedDataLoader(valid_dl, preprocess)"
   ]
  },
  {
   "cell_type": "code",
   "execution_count": 11,
   "metadata": {},
   "outputs": [],
   "source": [
    "model.to(dev)\n",
    "opt = optim.SGD(model.parameters(), lr=0.001, momentum=0.9)"
   ]
  },
  {
   "cell_type": "code",
   "execution_count": 12,
   "metadata": {},
   "outputs": [
    {
     "name": "stdout",
     "output_type": "stream",
     "text": [
      "0 0.3208117388278246\n",
      "1 0.3141814857572317\n",
      "2 0.3089945286005735\n",
      "3 0.3041380188524723\n",
      "4 0.3012416485697031\n",
      "5 0.2969713618338108\n",
      "6 0.2951829902797937\n",
      "7 0.29212125577032566\n",
      "8 0.29039443618655203\n",
      "9 0.28834391021430494\n",
      "10 0.2869814682364464\n",
      "11 0.2850842940688133\n",
      "12 0.284028061529994\n",
      "13 0.282780534312129\n",
      "14 0.2818161723047495\n",
      "15 0.28095057300031184\n",
      "16 0.27959725555479525\n",
      "17 0.27929387919902804\n",
      "18 0.278230649086833\n",
      "19 0.2771048096626997\n",
      "20 0.2758956632733345\n",
      "21 0.2752242734208703\n",
      "22 0.27483449535518883\n",
      "23 0.27461204688847063\n",
      "24 0.2739299431934953\n",
      "25 0.2728469856709242\n",
      "26 0.27301055262982843\n",
      "27 0.2720826304793358\n",
      "28 0.27133890598118304\n",
      "29 0.2711991373896599\n",
      "30 0.2706900473147631\n",
      "31 0.2697613130822778\n",
      "32 0.269638333798945\n",
      "33 0.26954908851087095\n",
      "34 0.26912094976753\n",
      "35 0.26837810919582844\n",
      "36 0.2683515486612916\n",
      "37 0.2675577922061086\n",
      "38 0.26751021286845206\n",
      "39 0.26783263971954585\n",
      "40 0.267152568218112\n",
      "41 0.267114639146626\n",
      "42 0.2661290294662118\n",
      "43 0.2665175373136997\n",
      "44 0.2656302153155208\n",
      "45 0.26554438962340354\n",
      "46 0.2652350952476263\n",
      "47 0.26534148604273794\n",
      "48 0.2651739898905158\n",
      "49 0.26487085481733086\n"
     ]
    }
   ],
   "source": [
    "fit(epochs, model, loss_func, opt, train_dl, valid_dl)"
   ]
  },
  {
   "cell_type": "code",
   "execution_count": null,
   "metadata": {},
   "outputs": [],
   "source": []
  }
 ],
 "metadata": {
  "interpreter": {
   "hash": "afa6950fbff9c8ff55c42a7231d7772514792e752790afd0025bef57ae2b7a3e"
  },
  "kernelspec": {
   "display_name": "Python 3.8.12 ('a1')",
   "language": "python",
   "name": "python3"
  },
  "language_info": {
   "codemirror_mode": {
    "name": "ipython",
    "version": 3
   },
   "file_extension": ".py",
   "mimetype": "text/x-python",
   "name": "python",
   "nbconvert_exporter": "python",
   "pygments_lexer": "ipython3",
   "version": "3.8.12"
  },
  "orig_nbformat": 4
 },
 "nbformat": 4,
 "nbformat_minor": 2
}
